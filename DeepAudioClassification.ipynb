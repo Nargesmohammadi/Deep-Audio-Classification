{
  "nbformat": 4,
  "nbformat_minor": 0,
  "metadata": {
    "colab": {
      "provenance": [],
      "gpuType": "T4"
    },
    "kernelspec": {
      "name": "python3",
      "display_name": "Python 3"
    },
    "language_info": {
      "name": "python"
    },
    "accelerator": "GPU"
  },
  "cells": [
    {
      "cell_type": "code",
      "execution_count": 2,
      "metadata": {
        "id": "SghqOpW2sEJU",
        "colab": {
          "base_uri": "https://localhost:8080/"
        },
        "outputId": "77362de4-caf5-4a45-ca0f-bd72c6a557dd"
      },
      "outputs": [
        {
          "output_type": "stream",
          "name": "stdout",
          "text": [
            "Requirement already satisfied: kaggle in /usr/local/lib/python3.10/dist-packages (1.5.16)\n",
            "Requirement already satisfied: six>=1.10 in /usr/local/lib/python3.10/dist-packages (from kaggle) (1.16.0)\n",
            "Requirement already satisfied: certifi in /usr/local/lib/python3.10/dist-packages (from kaggle) (2023.7.22)\n",
            "Requirement already satisfied: python-dateutil in /usr/local/lib/python3.10/dist-packages (from kaggle) (2.8.2)\n",
            "Requirement already satisfied: requests in /usr/local/lib/python3.10/dist-packages (from kaggle) (2.31.0)\n",
            "Requirement already satisfied: tqdm in /usr/local/lib/python3.10/dist-packages (from kaggle) (4.66.1)\n",
            "Requirement already satisfied: python-slugify in /usr/local/lib/python3.10/dist-packages (from kaggle) (8.0.1)\n",
            "Requirement already satisfied: urllib3 in /usr/local/lib/python3.10/dist-packages (from kaggle) (2.0.6)\n",
            "Requirement already satisfied: bleach in /usr/local/lib/python3.10/dist-packages (from kaggle) (6.0.0)\n",
            "Requirement already satisfied: webencodings in /usr/local/lib/python3.10/dist-packages (from bleach->kaggle) (0.5.1)\n",
            "Requirement already satisfied: text-unidecode>=1.3 in /usr/local/lib/python3.10/dist-packages (from python-slugify->kaggle) (1.3)\n",
            "Requirement already satisfied: charset-normalizer<4,>=2 in /usr/local/lib/python3.10/dist-packages (from requests->kaggle) (3.3.0)\n",
            "Requirement already satisfied: idna<4,>=2.5 in /usr/local/lib/python3.10/dist-packages (from requests->kaggle) (3.4)\n"
          ]
        }
      ],
      "source": [
        "!pip install kaggle"
      ]
    },
    {
      "cell_type": "code",
      "source": [
        "!mkdir -p ~/.kaggle\n",
        "!cp kaggle.json ~/.kaggle/\n",
        "!chmod 600 ~/.kaggle/kaggle.json"
      ],
      "metadata": {
        "id": "mGG247xSO1xK"
      },
      "execution_count": 3,
      "outputs": []
    },
    {
      "cell_type": "markdown",
      "source": [
        "# **Importing the dataset from Kaggle** **bold text**"
      ],
      "metadata": {
        "id": "h1oS6_gSPjGP"
      }
    },
    {
      "cell_type": "code",
      "source": [
        "!kaggle datasets download -d kenjee/z-by-hp-unlocked-challenge-3-signal-processing"
      ],
      "metadata": {
        "colab": {
          "base_uri": "https://localhost:8080/"
        },
        "id": "G4XXTbGDO_Xt",
        "outputId": "5b6376d6-c9b1-4344-eec2-2cc851e6f6d3"
      },
      "execution_count": 4,
      "outputs": [
        {
          "output_type": "stream",
          "name": "stdout",
          "text": [
            "Downloading z-by-hp-unlocked-challenge-3-signal-processing.zip to /content\n",
            " 98% 591M/604M [00:04<00:00, 173MB/s]\n",
            "100% 604M/604M [00:04<00:00, 144MB/s]\n"
          ]
        }
      ]
    },
    {
      "cell_type": "code",
      "source": [
        "# extracting the compessed dataset\n",
        "from zipfile import ZipFile\n",
        "dataset = '/content/z-by-hp-unlocked-challenge-3-signal-processing.zip'\n",
        "\n",
        "with ZipFile(dataset, 'r') as zip:\n",
        "  zip.extractall()\n",
        "  print('The dataset is extracted')"
      ],
      "metadata": {
        "colab": {
          "base_uri": "https://localhost:8080/"
        },
        "id": "qh7ed2DGPEQc",
        "outputId": "8041d27f-0d5f-4a3f-edae-973104092ca2"
      },
      "execution_count": 5,
      "outputs": [
        {
          "output_type": "stream",
          "name": "stdout",
          "text": [
            "The dataset is extracted\n"
          ]
        }
      ]
    },
    {
      "cell_type": "code",
      "source": [
        "!ls"
      ],
      "metadata": {
        "colab": {
          "base_uri": "https://localhost:8080/"
        },
        "id": "LY6Rce6-PK-V",
        "outputId": "914837f7-c9ec-4dc0-9f4f-c8bc74d6ff5b"
      },
      "execution_count": 6,
      "outputs": [
        {
          "output_type": "stream",
          "name": "stdout",
          "text": [
            "'Forest Recordings'\t     Parsed_Not_Capuchinbird_Clips\n",
            " kaggle.json\t\t     sample_data\n",
            " Parsed_Capuchinbird_Clips   z-by-hp-unlocked-challenge-3-signal-processing.zip\n"
          ]
        }
      ]
    },
    {
      "cell_type": "markdown",
      "source": [
        "# **Importing the Dependencies**"
      ],
      "metadata": {
        "id": "Ww1ii8Z6SGKQ"
      }
    },
    {
      "cell_type": "code",
      "source": [
        "!pip install tensorflow-io"
      ],
      "metadata": {
        "colab": {
          "base_uri": "https://localhost:8080/"
        },
        "id": "jHvpApfKPW-c",
        "outputId": "884a5288-3363-4659-9abe-6fbea4bf96d0"
      },
      "execution_count": 7,
      "outputs": [
        {
          "output_type": "stream",
          "name": "stdout",
          "text": [
            "Collecting tensorflow-io\n",
            "  Downloading tensorflow_io-0.34.0-cp310-cp310-manylinux_2_12_x86_64.manylinux2010_x86_64.whl (28.8 MB)\n",
            "\u001b[2K     \u001b[90m━━━━━━━━━━━━━━━━━━━━━━━━━━━━━━━━━━━━━━━━\u001b[0m \u001b[32m28.8/28.8 MB\u001b[0m \u001b[31m35.7 MB/s\u001b[0m eta \u001b[36m0:00:00\u001b[0m\n",
            "\u001b[?25hRequirement already satisfied: tensorflow-io-gcs-filesystem==0.34.0 in /usr/local/lib/python3.10/dist-packages (from tensorflow-io) (0.34.0)\n",
            "Installing collected packages: tensorflow-io\n",
            "Successfully installed tensorflow-io-0.34.0\n"
          ]
        }
      ]
    },
    {
      "cell_type": "code",
      "source": [
        "import os\n",
        "from matplotlib import pyplot as plt\n",
        "import tensorflow as tf\n",
        "import tensorflow_io as tfio"
      ],
      "metadata": {
        "id": "IoP7zlGQSTEh"
      },
      "execution_count": 8,
      "outputs": []
    },
    {
      "cell_type": "markdown",
      "source": [
        "# **2.Build data loading function**"
      ],
      "metadata": {
        "id": "heL-hQhvTAwa"
      }
    },
    {
      "cell_type": "markdown",
      "source": [
        "## *2.1 Defining paths to files*"
      ],
      "metadata": {
        "id": "RjI57Cs7TJgc"
      }
    },
    {
      "cell_type": "code",
      "source": [
        "CAPUCHIN_FILE = os.path.join('data', '/content/Parsed_Capuchinbird_Clips', 'XC216012-13.wav')\n",
        "NOT_CAPUCHIN_FILE = os.path.join('data', '/content/Parsed_Not_Capuchinbird_Clips', 'Crickets-chirping-9.wav')\n",
        "CAPUCHIN_FILE"
      ],
      "metadata": {
        "colab": {
          "base_uri": "https://localhost:8080/",
          "height": 35
        },
        "id": "R42AgGBZS4Nu",
        "outputId": "b0e268ef-2b70-4fc8-d079-4d6dc5c458ea"
      },
      "execution_count": 9,
      "outputs": [
        {
          "output_type": "execute_result",
          "data": {
            "text/plain": [
              "'/content/Parsed_Capuchinbird_Clips/XC216012-13.wav'"
            ],
            "application/vnd.google.colaboratory.intrinsic+json": {
              "type": "string"
            }
          },
          "metadata": {},
          "execution_count": 9
        }
      ]
    },
    {
      "cell_type": "code",
      "source": [
        "NOT_CAPUCHIN_FILE"
      ],
      "metadata": {
        "colab": {
          "base_uri": "https://localhost:8080/",
          "height": 35
        },
        "id": "TciJCSBeUZdo",
        "outputId": "c198a36a-a7bb-481e-d229-f343a8f43952"
      },
      "execution_count": 10,
      "outputs": [
        {
          "output_type": "execute_result",
          "data": {
            "text/plain": [
              "'/content/Parsed_Not_Capuchinbird_Clips/Crickets-chirping-9.wav'"
            ],
            "application/vnd.google.colaboratory.intrinsic+json": {
              "type": "string"
            }
          },
          "metadata": {},
          "execution_count": 10
        }
      ]
    },
    {
      "cell_type": "markdown",
      "source": [
        "## *2.2 Building dataloading funnction*"
      ],
      "metadata": {
        "id": "lUNwyamfV-pZ"
      }
    },
    {
      "cell_type": "code",
      "source": [
        "def load_wav_16k_momo(filename):\n",
        "  # laod encoded wav file\n",
        "  file_contents = tf.io.read_file(filename)\n",
        "  # decode wav (tensors by channels)\n",
        "  wav, sample_rate = tf.audio.decode_wav(file_contents, desired_channels=1)\n",
        "  # remove traling axis\n",
        "  wav = tf.squeeze(wav, axis=-1)\n",
        "  sample_rate = tf.cast(sample_rate, dtype=tf.int64)\n",
        "  # goes from 44100Hz to 16000Hz - ampltude of the audio signal\n",
        "  wav = tfio.audio.resample(wav, rate_in=sample_rate, rate_out=16000)\n",
        "  return wav"
      ],
      "metadata": {
        "id": "abZPsrxYVF1o"
      },
      "execution_count": 11,
      "outputs": []
    },
    {
      "cell_type": "markdown",
      "source": [
        "## *2.3 Plot wave*\n",
        "\n"
      ],
      "metadata": {
        "id": "DwY-bFBnaH9a"
      }
    },
    {
      "cell_type": "code",
      "source": [
        "wave = load_wav_16k_momo(CAPUCHIN_FILE)\n",
        "nwave = load_wav_16k_momo(NOT_CAPUCHIN_FILE)"
      ],
      "metadata": {
        "id": "TuzJ-0jsZPIv"
      },
      "execution_count": 12,
      "outputs": []
    },
    {
      "cell_type": "code",
      "source": [
        "plt.plot(wave)\n",
        "plt.plot(nwave)\n",
        "plt.show()"
      ],
      "metadata": {
        "colab": {
          "base_uri": "https://localhost:8080/",
          "height": 430
        },
        "id": "XT6Y8kPFancO",
        "outputId": "4f74b86e-00b8-40f8-da8f-a117ebeb8d86"
      },
      "execution_count": 13,
      "outputs": [
        {
          "output_type": "display_data",
          "data": {
            "text/plain": [
              "<Figure size 640x480 with 1 Axes>"
            ],
            "image/png": "[encoded data removed]"
          },
          "metadata": {}
        }
      ]
    },
    {
      "cell_type": "markdown",
      "source": [
        "# *3. Create Tensorflow dataset*\n"
      ],
      "metadata": {
        "id": "SHEWDrTfPVxF"
      }
    },
    {
      "cell_type": "markdown",
      "source": [
        "## *3.1 Define paths to positive and negative data*"
      ],
      "metadata": {
        "id": "28XiqhhBPpxZ"
      }
    },
    {
      "cell_type": "code",
      "source": [
        "POS = os.path.join( '/content/Parsed_Capuchinbird_Clips')\n",
        "NEG = os.path.join( '/content/Parsed_Not_Capuchinbird_Clips')"
      ],
      "metadata": {
        "id": "I-AKepafav5t"
      },
      "execution_count": 14,
      "outputs": []
    },
    {
      "cell_type": "code",
      "source": [
        "POS"
      ],
      "metadata": {
        "colab": {
          "base_uri": "https://localhost:8080/",
          "height": 35
        },
        "id": "23m-xFElQahT",
        "outputId": "c31cdbd1-1513-4c76-f358-a90798347d51"
      },
      "execution_count": 15,
      "outputs": [
        {
          "output_type": "execute_result",
          "data": {
            "text/plain": [
              "'/content/Parsed_Capuchinbird_Clips'"
            ],
            "application/vnd.google.colaboratory.intrinsic+json": {
              "type": "string"
            }
          },
          "metadata": {},
          "execution_count": 15
        }
      ]
    },
    {
      "cell_type": "code",
      "source": [
        "NEG"
      ],
      "metadata": {
        "colab": {
          "base_uri": "https://localhost:8080/",
          "height": 35
        },
        "id": "yyDX1p6dQcdY",
        "outputId": "cffcedb9-f042-46c1-f1b2-3f42d4a21a99"
      },
      "execution_count": 16,
      "outputs": [
        {
          "output_type": "execute_result",
          "data": {
            "text/plain": [
              "'/content/Parsed_Not_Capuchinbird_Clips'"
            ],
            "application/vnd.google.colaboratory.intrinsic+json": {
              "type": "string"
            }
          },
          "metadata": {},
          "execution_count": 16
        }
      ]
    },
    {
      "cell_type": "markdown",
      "source": [
        "## *3.2 Create tensorflow datasets*"
      ],
      "metadata": {
        "id": "deJ1hMgwQjfq"
      }
    },
    {
      "cell_type": "code",
      "source": [
        "pos = tf.data.Dataset.list_files(POS+'/*.wav')\n",
        "neg = tf.data.Dataset.list_files(NEG+'/*.wav')"
      ],
      "metadata": {
        "id": "5C6MEoomQeso"
      },
      "execution_count": 17,
      "outputs": []
    },
    {
      "cell_type": "code",
      "source": [
        "pos.as_numpy_iterator().next()"
      ],
      "metadata": {
        "colab": {
          "base_uri": "https://localhost:8080/"
        },
        "id": "LAUr_4mKT0L-",
        "outputId": "d544d812-c7e6-45c1-9663-993ce5bb655b"
      },
      "execution_count": 18,
      "outputs": [
        {
          "output_type": "execute_result",
          "data": {
            "text/plain": [
              "b'/content/Parsed_Capuchinbird_Clips/XC3776-2.wav'"
            ]
          },
          "metadata": {},
          "execution_count": 18
        }
      ]
    },
    {
      "cell_type": "markdown",
      "source": [
        "## *3.3 Add labels and combine positive and negative sample*"
      ],
      "metadata": {
        "id": "w-Ggjx5tVzef"
      }
    },
    {
      "cell_type": "code",
      "source": [
        "positives = tf.data.Dataset.zip((pos, tf.data.Dataset.from_tensor_slices(tf.ones(len(pos)))))\n",
        "negatives = tf.data.Dataset.zip((neg, tf.data.Dataset.from_tensor_slices(tf.zeros(len(neg)))))\n",
        "data = positives.concatenate(negatives)"
      ],
      "metadata": {
        "id": "0LVpLbhAVeD2"
      },
      "execution_count": 19,
      "outputs": []
    },
    {
      "cell_type": "code",
      "source": [
        "positives.as_numpy_iterator().next()"
      ],
      "metadata": {
        "colab": {
          "base_uri": "https://localhost:8080/"
        },
        "id": "1OgbNhUFX3O9",
        "outputId": "2568657c-be23-4bfd-da3d-1cc34f2e6e1b"
      },
      "execution_count": 20,
      "outputs": [
        {
          "output_type": "execute_result",
          "data": {
            "text/plain": [
              "(b'/content/Parsed_Capuchinbird_Clips/XC227469-1.wav', 1.0)"
            ]
          },
          "metadata": {},
          "execution_count": 20
        }
      ]
    },
    {
      "cell_type": "code",
      "source": [
        "negatives.as_numpy_iterator().next()"
      ],
      "metadata": {
        "colab": {
          "base_uri": "https://localhost:8080/"
        },
        "id": "manXZLhOVXmj",
        "outputId": "24d328d8-562c-4b36-ab67-5892b9200942"
      },
      "execution_count": 21,
      "outputs": [
        {
          "output_type": "execute_result",
          "data": {
            "text/plain": [
              "(b'/content/Parsed_Not_Capuchinbird_Clips/night-insect-sounds-3.wav', 0.0)"
            ]
          },
          "metadata": {},
          "execution_count": 21
        }
      ]
    },
    {
      "cell_type": "code",
      "source": [
        "data.as_numpy_iterator().next()"
      ],
      "metadata": {
        "id": "tgZA_6_uZ8mY",
        "colab": {
          "base_uri": "https://localhost:8080/"
        },
        "outputId": "d0d798ff-74bc-4803-9fcd-1a0c08bac925"
      },
      "execution_count": 22,
      "outputs": [
        {
          "output_type": "execute_result",
          "data": {
            "text/plain": [
              "(b'/content/Parsed_Capuchinbird_Clips/XC216012-3.wav', 1.0)"
            ]
          },
          "metadata": {},
          "execution_count": 22
        }
      ]
    },
    {
      "cell_type": "code",
      "source": [
        "data.shuffle(100).as_numpy_iterator().next()"
      ],
      "metadata": {
        "colab": {
          "base_uri": "https://localhost:8080/"
        },
        "id": "aKrhZFnug39o",
        "outputId": "7e9edc4f-4cfd-4961-e3b0-3b21b439c22d"
      },
      "execution_count": 23,
      "outputs": [
        {
          "output_type": "execute_result",
          "data": {
            "text/plain": [
              "(b'/content/Parsed_Capuchinbird_Clips/XC216010-3.wav', 1.0)"
            ]
          },
          "metadata": {},
          "execution_count": 23
        }
      ]
    },
    {
      "cell_type": "markdown",
      "source": [
        "# *4. Detremine average length of capuchin call*"
      ],
      "metadata": {
        "id": "Ye8GbAR-hcmA"
      }
    },
    {
      "cell_type": "markdown",
      "source": [
        "## *4.1 Calculate wave cycle length*"
      ],
      "metadata": {
        "id": "FspCZFrAhqXw"
      }
    },
    {
      "cell_type": "code",
      "source": [
        "# lenghts = []\n",
        "# for file in os.listdir(os.path.join('data', '/content/Parsed_Capuchinbird_Clips')):\n",
        "  # tensor_wave = load_wav_16k_momo(os.path.join('data', '/content/Parsed_Capuchinbird_Clips'))\n",
        "  # lengths.append(len(tensor_wave))\n",
        "\n",
        "from pathlib import Path\n",
        "\n",
        "lengths = []\n",
        "dir_path = '/content/Parsed_Capuchinbird_Clips'\n",
        "for file in os.listdir(dir_path):\n",
        "    file_path = os.path.join(dir_path, file)\n",
        "    if os.path.isfile(file_path):\n",
        "        print(f\"Processing file: {file_path}\")\n",
        "        tensor_wave = load_wav_16k_momo(file_path)\n",
        "        print(f\"Tensor shape: {tensor_wave.shape}\")\n",
        "        lengths.append(len(tensor_wave))\n"
      ],
      "metadata": {
        "colab": {
          "base_uri": "https://localhost:8080/"
        },
        "id": "hYEU7_aKjvja",
        "outputId": "0595e0e0-4ee0-47d0-a435-09e868c22a2b"
      },
      "execution_count": 24,
      "outputs": [
        {
          "output_type": "stream",
          "name": "stderr",
          "text": [
            "WARNING:tensorflow:5 out of the last 5 calls to <function pfor.<locals>.f at 0x7a23249e9990> triggered tf.function retracing. Tracing is expensive and the excessive number of tracings could be due to (1) creating @tf.function repeatedly in a loop, (2) passing tensors with different shapes, (3) passing Python objects instead of tensors. For (1), please define your @tf.function outside of the loop. For (2), @tf.function has reduce_retracing=True option that can avoid unnecessary retracing. For (3), please refer to https://www.tensorflow.org/guide/function#controlling_retracing and https://www.tensorflow.org/api_docs/python/tf/function for  more details.\n",
            "WARNING:tensorflow:6 out of the last 6 calls to <function pfor.<locals>.f at 0x7a23249e9ab0> triggered tf.function retracing. Tracing is expensive and the excessive number of tracings could be due to (1) creating @tf.function repeatedly in a loop, (2) passing tensors with different shapes, (3) passing Python objects instead of tensors. For (1), please define your @tf.function outside of the loop. For (2), @tf.function has reduce_retracing=True option that can avoid unnecessary retracing. For (3), please refer to https://www.tensorflow.org/guide/function#controlling_retracing and https://www.tensorflow.org/api_docs/python/tf/function for  more details.\n"
          ]
        },
        {
          "output_type": "stream",
          "name": "stdout",
          "text": [
            "Processing file: /content/Parsed_Capuchinbird_Clips/XC227471-7.wav\n",
            "Tensor shape: (40000,)\n",
            "Processing file: /content/Parsed_Capuchinbird_Clips/XC395129-5.wav\n",
            "Tensor shape: (48000,)\n",
            "Processing file: /content/Parsed_Capuchinbird_Clips/XC216012-14.wav\n",
            "Tensor shape: (48000,)\n",
            "Processing file: /content/Parsed_Capuchinbird_Clips/XC114132-6.wav\n",
            "Tensor shape: (56000,)\n",
            "Processing file: /content/Parsed_Capuchinbird_Clips/XC600460-3.wav\n",
            "Tensor shape: (48000,)\n",
            "Processing file: /content/Parsed_Capuchinbird_Clips/XC216012-5.wav\n",
            "Tensor shape: (48000,)\n",
            "Processing file: /content/Parsed_Capuchinbird_Clips/XC178168-1.wav\n",
            "Tensor shape: (48000,)\n",
            "Processing file: /content/Parsed_Capuchinbird_Clips/XC9221-2.wav\n",
            "Tensor shape: (56000,)\n",
            "Processing file: /content/Parsed_Capuchinbird_Clips/XC433953-8.wav\n",
            "Tensor shape: (32000,)\n",
            "Processing file: /content/Parsed_Capuchinbird_Clips/XC600460-1.wav\n",
            "Tensor shape: (48000,)\n",
            "Processing file: /content/Parsed_Capuchinbird_Clips/XC520626-3.wav\n",
            "Tensor shape: (56000,)\n",
            "Processing file: /content/Parsed_Capuchinbird_Clips/XC216012-7.wav\n",
            "Tensor shape: (56000,)\n",
            "Processing file: /content/Parsed_Capuchinbird_Clips/XC3776-0.wav\n",
            "Tensor shape: (48000,)\n",
            "Processing file: /content/Parsed_Capuchinbird_Clips/XC216012-2.wav\n",
            "Tensor shape: (56000,)\n",
            "Processing file: /content/Parsed_Capuchinbird_Clips/XC46241-2.wav\n",
            "Tensor shape: (56000,)\n",
            "Processing file: /content/Parsed_Capuchinbird_Clips/XC227469-3.wav\n",
            "Tensor shape: (56000,)\n",
            "Processing file: /content/Parsed_Capuchinbird_Clips/XC22397-5.wav\n",
            "Tensor shape: (56000,)\n",
            "Processing file: /content/Parsed_Capuchinbird_Clips/XC388470-3.wav\n",
            "Tensor shape: (32000,)\n",
            "Processing file: /content/Parsed_Capuchinbird_Clips/XC227468-0.wav\n",
            "Tensor shape: (56000,)\n",
            "Processing file: /content/Parsed_Capuchinbird_Clips/XC495697-4.wav\n",
            "Tensor shape: (48000,)\n",
            "Processing file: /content/Parsed_Capuchinbird_Clips/XC307385-3.wav\n",
            "Tensor shape: (64000,)\n",
            "Processing file: /content/Parsed_Capuchinbird_Clips/XC456236-1.wav\n",
            "Tensor shape: (56000,)\n",
            "Processing file: /content/Parsed_Capuchinbird_Clips/XC3776-1.wav\n",
            "Tensor shape: (48000,)\n",
            "Processing file: /content/Parsed_Capuchinbird_Clips/XC307385-2.wav\n",
            "Tensor shape: (64000,)\n",
            "Processing file: /content/Parsed_Capuchinbird_Clips/XC395129-0.wav\n",
            "Tensor shape: (56000,)\n",
            "Processing file: /content/Parsed_Capuchinbird_Clips/XC46241-3.wav\n",
            "Tensor shape: (72000,)\n",
            "Processing file: /content/Parsed_Capuchinbird_Clips/XC9892-0.wav\n",
            "Tensor shape: (56000,)\n",
            "Processing file: /content/Parsed_Capuchinbird_Clips/XC216010-0.wav\n",
            "Tensor shape: (40000,)\n",
            "Processing file: /content/Parsed_Capuchinbird_Clips/XC600460-2.wav\n",
            "Tensor shape: (56000,)\n",
            "Processing file: /content/Parsed_Capuchinbird_Clips/XC433953-0.wav\n",
            "Tensor shape: (55999,)\n",
            "Processing file: /content/Parsed_Capuchinbird_Clips/XC79965-0.wav\n",
            "Tensor shape: (48000,)\n",
            "Processing file: /content/Parsed_Capuchinbird_Clips/XC27882-1.wav\n",
            "Tensor shape: (56000,)\n",
            "Processing file: /content/Parsed_Capuchinbird_Clips/XC168899-0.wav\n",
            "Tensor shape: (64000,)\n",
            "Processing file: /content/Parsed_Capuchinbird_Clips/XC16803-0.wav\n",
            "Tensor shape: (56000,)\n",
            "Processing file: /content/Parsed_Capuchinbird_Clips/XC387509-4.wav\n",
            "Tensor shape: (56000,)\n",
            "Processing file: /content/Parsed_Capuchinbird_Clips/XC216012-8.wav\n",
            "Tensor shape: (48000,)\n",
            "Processing file: /content/Parsed_Capuchinbird_Clips/XC201990-3.wav\n",
            "Tensor shape: (32000,)\n",
            "Processing file: /content/Parsed_Capuchinbird_Clips/XC98557-1.wav\n",
            "Tensor shape: (64000,)\n",
            "Processing file: /content/Parsed_Capuchinbird_Clips/XC201990-1.wav\n",
            "Tensor shape: (56000,)\n",
            "Processing file: /content/Parsed_Capuchinbird_Clips/XC65196-0.wav\n",
            "Tensor shape: (56000,)\n",
            "Processing file: /content/Parsed_Capuchinbird_Clips/XC27881-0.wav\n",
            "Tensor shape: (64000,)\n",
            "Processing file: /content/Parsed_Capuchinbird_Clips/XC216012-10.wav\n",
            "Tensor shape: (64000,)\n",
            "Processing file: /content/Parsed_Capuchinbird_Clips/XC433953-7.wav\n",
            "Tensor shape: (40000,)\n",
            "Processing file: /content/Parsed_Capuchinbird_Clips/XC79965-7.wav\n",
            "Tensor shape: (56000,)\n",
            "Processing file: /content/Parsed_Capuchinbird_Clips/XC227471-1.wav\n",
            "Tensor shape: (48000,)\n",
            "Processing file: /content/Parsed_Capuchinbird_Clips/XC46077-2.wav\n",
            "Tensor shape: (64000,)\n",
            "Processing file: /content/Parsed_Capuchinbird_Clips/XC388470-6.wav\n",
            "Tensor shape: (64000,)\n",
            "Processing file: /content/Parsed_Capuchinbird_Clips/XC46241-5.wav\n",
            "Tensor shape: (64000,)\n",
            "Processing file: /content/Parsed_Capuchinbird_Clips/XC433953-5.wav\n",
            "Tensor shape: (55999,)\n",
            "Processing file: /content/Parsed_Capuchinbird_Clips/XC178167-1.wav\n",
            "Tensor shape: (56000,)\n",
            "Processing file: /content/Parsed_Capuchinbird_Clips/XC27881-3.wav\n",
            "Tensor shape: (40000,)\n",
            "Processing file: /content/Parsed_Capuchinbird_Clips/XC27881-1.wav\n",
            "Tensor shape: (56000,)\n",
            "Processing file: /content/Parsed_Capuchinbird_Clips/XC216010-4.wav\n",
            "Tensor shape: (56000,)\n",
            "Processing file: /content/Parsed_Capuchinbird_Clips/XC114131-3.wav\n",
            "Tensor shape: (48000,)\n",
            "Processing file: /content/Parsed_Capuchinbird_Clips/XC513083-1.wav\n",
            "Tensor shape: (64000,)\n",
            "Processing file: /content/Parsed_Capuchinbird_Clips/XC201990-4.wav\n",
            "Tensor shape: (40000,)\n",
            "Processing file: /content/Parsed_Capuchinbird_Clips/XC119294-0.wav\n",
            "Tensor shape: (64000,)\n",
            "Processing file: /content/Parsed_Capuchinbird_Clips/XC114131-0.wav\n",
            "Tensor shape: (40000,)\n",
            "Processing file: /content/Parsed_Capuchinbird_Clips/XC227469-0.wav\n",
            "Tensor shape: (48000,)\n",
            "Processing file: /content/Parsed_Capuchinbird_Clips/XC388470-5.wav\n",
            "Tensor shape: (40000,)\n",
            "Processing file: /content/Parsed_Capuchinbird_Clips/XC574021-0.wav\n",
            "Tensor shape: (56000,)\n",
            "Processing file: /content/Parsed_Capuchinbird_Clips/XC3776-4.wav\n",
            "Tensor shape: (64000,)\n",
            "Processing file: /content/Parsed_Capuchinbird_Clips/XC227469-4.wav\n",
            "Tensor shape: (56000,)\n",
            "Processing file: /content/Parsed_Capuchinbird_Clips/XC216012-18.wav\n",
            "Tensor shape: (48000,)\n",
            "Processing file: /content/Parsed_Capuchinbird_Clips/XC513083-0.wav\n",
            "Tensor shape: (48000,)\n",
            "Processing file: /content/Parsed_Capuchinbird_Clips/XC114132-5.wav\n",
            "Tensor shape: (48000,)\n",
            "Processing file: /content/Parsed_Capuchinbird_Clips/XC216012-20.wav\n",
            "Tensor shape: (48000,)\n",
            "Processing file: /content/Parsed_Capuchinbird_Clips/XC178168-0.wav\n",
            "Tensor shape: (48000,)\n",
            "Processing file: /content/Parsed_Capuchinbird_Clips/XC16804-0.wav\n",
            "Tensor shape: (64000,)\n",
            "Processing file: /content/Parsed_Capuchinbird_Clips/XC387509-0.wav\n",
            "Tensor shape: (56000,)\n",
            "Processing file: /content/Parsed_Capuchinbird_Clips/XC79965-1.wav\n",
            "Tensor shape: (56000,)\n",
            "Processing file: /content/Parsed_Capuchinbird_Clips/XC44070-2.wav\n",
            "Tensor shape: (56000,)\n",
            "Processing file: /content/Parsed_Capuchinbird_Clips/XC46077-1.wav\n",
            "Tensor shape: (72000,)\n",
            "Processing file: /content/Parsed_Capuchinbird_Clips/XC216010-2.wav\n",
            "Tensor shape: (56000,)\n",
            "Processing file: /content/Parsed_Capuchinbird_Clips/XC227471-2.wav\n",
            "Tensor shape: (56000,)\n",
            "Processing file: /content/Parsed_Capuchinbird_Clips/XC526106-1.wav\n",
            "Tensor shape: (56000,)\n",
            "Processing file: /content/Parsed_Capuchinbird_Clips/XC456236-2.wav\n",
            "Tensor shape: (64000,)\n",
            "Processing file: /content/Parsed_Capuchinbird_Clips/XC433953-1.wav\n",
            "Tensor shape: (48000,)\n",
            "Processing file: /content/Parsed_Capuchinbird_Clips/XC227468-2.wav\n",
            "Tensor shape: (64000,)\n",
            "Processing file: /content/Parsed_Capuchinbird_Clips/XC16804-1.wav\n",
            "Tensor shape: (64000,)\n",
            "Processing file: /content/Parsed_Capuchinbird_Clips/XC114132-2.wav\n",
            "Tensor shape: (64000,)\n",
            "Processing file: /content/Parsed_Capuchinbird_Clips/XC395129-1.wav\n",
            "Tensor shape: (32000,)\n",
            "Processing file: /content/Parsed_Capuchinbird_Clips/XC216010-3.wav\n",
            "Tensor shape: (56000,)\n",
            "Processing file: /content/Parsed_Capuchinbird_Clips/XC456314-0.wav\n",
            "Tensor shape: (56000,)\n",
            "Processing file: /content/Parsed_Capuchinbird_Clips/XC178168-4.wav\n",
            "Tensor shape: (64000,)\n",
            "Processing file: /content/Parsed_Capuchinbird_Clips/XC456236-3.wav\n",
            "Tensor shape: (48000,)\n",
            "Processing file: /content/Parsed_Capuchinbird_Clips/XC65196-2.wav\n",
            "Tensor shape: (56000,)\n",
            "Processing file: /content/Parsed_Capuchinbird_Clips/XC395129-3.wav\n",
            "Tensor shape: (40000,)\n",
            "Processing file: /content/Parsed_Capuchinbird_Clips/XC520626-2.wav\n",
            "Tensor shape: (48000,)\n",
            "Processing file: /content/Parsed_Capuchinbird_Clips/XC227471-6.wav\n",
            "Tensor shape: (56000,)\n",
            "Processing file: /content/Parsed_Capuchinbird_Clips/XC216012-4.wav\n",
            "Tensor shape: (56000,)\n",
            "Processing file: /content/Parsed_Capuchinbird_Clips/XC65196-4.wav\n",
            "Tensor shape: (56000,)\n",
            "Processing file: /content/Parsed_Capuchinbird_Clips/XC227471-0.wav\n",
            "Tensor shape: (56000,)\n",
            "Processing file: /content/Parsed_Capuchinbird_Clips/XC79965-6.wav\n",
            "Tensor shape: (56000,)\n",
            "Processing file: /content/Parsed_Capuchinbird_Clips/XC433953-4.wav\n",
            "Tensor shape: (64000,)\n",
            "Processing file: /content/Parsed_Capuchinbird_Clips/XC520626-0.wav\n",
            "Tensor shape: (48000,)\n",
            "Processing file: /content/Parsed_Capuchinbird_Clips/XC600460-5.wav\n",
            "Tensor shape: (48000,)\n",
            "Processing file: /content/Parsed_Capuchinbird_Clips/XC526106-0.wav\n",
            "Tensor shape: (56000,)\n",
            "Processing file: /content/Parsed_Capuchinbird_Clips/XC227471-4.wav\n",
            "Tensor shape: (56000,)\n",
            "Processing file: /content/Parsed_Capuchinbird_Clips/XC65196-3.wav\n",
            "Tensor shape: (56000,)\n",
            "Processing file: /content/Parsed_Capuchinbird_Clips/XC387509-5.wav\n",
            "Tensor shape: (56000,)\n",
            "Processing file: /content/Parsed_Capuchinbird_Clips/XC227469-1.wav\n",
            "Tensor shape: (48000,)\n",
            "Processing file: /content/Parsed_Capuchinbird_Clips/XC16803-2.wav\n",
            "Tensor shape: (64000,)\n",
            "Processing file: /content/Parsed_Capuchinbird_Clips/XC3776-5.wav\n",
            "Tensor shape: (48000,)\n",
            "Processing file: /content/Parsed_Capuchinbird_Clips/XC495697-2.wav\n",
            "Tensor shape: (56000,)\n",
            "Processing file: /content/Parsed_Capuchinbird_Clips/XC22397-6.wav\n",
            "Tensor shape: (56000,)\n",
            "Processing file: /content/Parsed_Capuchinbird_Clips/XC456236-4.wav\n",
            "Tensor shape: (56000,)\n",
            "Processing file: /content/Parsed_Capuchinbird_Clips/XC9221-1.wav\n",
            "Tensor shape: (64000,)\n",
            "Processing file: /content/Parsed_Capuchinbird_Clips/XC216012-11.wav\n",
            "Tensor shape: (48000,)\n",
            "Processing file: /content/Parsed_Capuchinbird_Clips/XC79965-9.wav\n",
            "Tensor shape: (56000,)\n",
            "Processing file: /content/Parsed_Capuchinbird_Clips/XC65196-1.wav\n",
            "Tensor shape: (56000,)\n",
            "Processing file: /content/Parsed_Capuchinbird_Clips/XC433953-2.wav\n",
            "Tensor shape: (48000,)\n",
            "Processing file: /content/Parsed_Capuchinbird_Clips/XC65195-0.wav\n",
            "Tensor shape: (56000,)\n",
            "Processing file: /content/Parsed_Capuchinbird_Clips/XC114132-4.wav\n",
            "Tensor shape: (56000,)\n",
            "Processing file: /content/Parsed_Capuchinbird_Clips/XC46241-4.wav\n",
            "Tensor shape: (56000,)\n",
            "Processing file: /content/Parsed_Capuchinbird_Clips/XC216012-9.wav\n",
            "Tensor shape: (64000,)\n",
            "Processing file: /content/Parsed_Capuchinbird_Clips/XC395129-2.wav\n",
            "Tensor shape: (40000,)\n",
            "Processing file: /content/Parsed_Capuchinbird_Clips/XC44070-0.wav\n",
            "Tensor shape: (48000,)\n",
            "Processing file: /content/Parsed_Capuchinbird_Clips/XC201990-2.wav\n",
            "Tensor shape: (64000,)\n",
            "Processing file: /content/Parsed_Capuchinbird_Clips/XC27882-4.wav\n",
            "Tensor shape: (64000,)\n",
            "Processing file: /content/Parsed_Capuchinbird_Clips/XC16803-1.wav\n",
            "Tensor shape: (40000,)\n",
            "Processing file: /content/Parsed_Capuchinbird_Clips/XC495697-1.wav\n",
            "Tensor shape: (40000,)\n",
            "Processing file: /content/Parsed_Capuchinbird_Clips/XC513083-2.wav\n",
            "Tensor shape: (64000,)\n",
            "Processing file: /content/Parsed_Capuchinbird_Clips/XC27882-5.wav\n",
            "Tensor shape: (56000,)\n",
            "Processing file: /content/Parsed_Capuchinbird_Clips/XC479556-0.wav\n",
            "Tensor shape: (64000,)\n",
            "Processing file: /content/Parsed_Capuchinbird_Clips/XC79965-10.wav\n",
            "Tensor shape: (72000,)\n",
            "Processing file: /content/Parsed_Capuchinbird_Clips/XC79965-8.wav\n",
            "Tensor shape: (56000,)\n",
            "Processing file: /content/Parsed_Capuchinbird_Clips/XC22397-1.wav\n",
            "Tensor shape: (40000,)\n",
            "Processing file: /content/Parsed_Capuchinbird_Clips/XC114131-1.wav\n",
            "Tensor shape: (48000,)\n",
            "Processing file: /content/Parsed_Capuchinbird_Clips/XC22397-4.wav\n",
            "Tensor shape: (56000,)\n",
            "Processing file: /content/Parsed_Capuchinbird_Clips/XC307385-1.wav\n",
            "Tensor shape: (48000,)\n",
            "Processing file: /content/Parsed_Capuchinbird_Clips/XC216012-6.wav\n",
            "Tensor shape: (48000,)\n",
            "Processing file: /content/Parsed_Capuchinbird_Clips/XC27881-2.wav\n",
            "Tensor shape: (56000,)\n",
            "Processing file: /content/Parsed_Capuchinbird_Clips/XC600460-4.wav\n",
            "Tensor shape: (56000,)\n",
            "Processing file: /content/Parsed_Capuchinbird_Clips/XC22397-7.wav\n",
            "Tensor shape: (64000,)\n",
            "Processing file: /content/Parsed_Capuchinbird_Clips/XC216010-6.wav\n",
            "Tensor shape: (48000,)\n",
            "Processing file: /content/Parsed_Capuchinbird_Clips/XC114131-2.wav\n",
            "Tensor shape: (56000,)\n",
            "Processing file: /content/Parsed_Capuchinbird_Clips/XC401294-0.wav\n",
            "Tensor shape: (64000,)\n",
            "Processing file: /content/Parsed_Capuchinbird_Clips/XC387509-3.wav\n",
            "Tensor shape: (48000,)\n",
            "Processing file: /content/Parsed_Capuchinbird_Clips/XC388470-1.wav\n",
            "Tensor shape: (48000,)\n",
            "Processing file: /content/Parsed_Capuchinbird_Clips/XC178167-2.wav\n",
            "Tensor shape: (56000,)\n",
            "Processing file: /content/Parsed_Capuchinbird_Clips/XC526106-2.wav\n",
            "Tensor shape: (56000,)\n",
            "Processing file: /content/Parsed_Capuchinbird_Clips/XC388470-4.wav\n",
            "Tensor shape: (48000,)\n",
            "Processing file: /content/Parsed_Capuchinbird_Clips/XC216012-16.wav\n",
            "Tensor shape: (56000,)\n",
            "Processing file: /content/Parsed_Capuchinbird_Clips/XC79965-4.wav\n",
            "Tensor shape: (64000,)\n",
            "Processing file: /content/Parsed_Capuchinbird_Clips/XC98557-0.wav\n",
            "Tensor shape: (64000,)\n",
            "Processing file: /content/Parsed_Capuchinbird_Clips/XC495697-3.wav\n",
            "Tensor shape: (56000,)\n",
            "Processing file: /content/Parsed_Capuchinbird_Clips/XC216012-3.wav\n",
            "Tensor shape: (40000,)\n",
            "Processing file: /content/Parsed_Capuchinbird_Clips/XC433953-10.wav\n",
            "Tensor shape: (55999,)\n",
            "Processing file: /content/Parsed_Capuchinbird_Clips/XC27882-2.wav\n",
            "Tensor shape: (64000,)\n",
            "Processing file: /content/Parsed_Capuchinbird_Clips/XC395129-4.wav\n",
            "Tensor shape: (48000,)\n",
            "Processing file: /content/Parsed_Capuchinbird_Clips/XC79965-5.wav\n",
            "Tensor shape: (56000,)\n",
            "Processing file: /content/Parsed_Capuchinbird_Clips/XC79965-3.wav\n",
            "Tensor shape: (80000,)\n",
            "Processing file: /content/Parsed_Capuchinbird_Clips/XC27882-0.wav\n",
            "Tensor shape: (64000,)\n",
            "Processing file: /content/Parsed_Capuchinbird_Clips/XC46241-1.wav\n",
            "Tensor shape: (56000,)\n",
            "Processing file: /content/Parsed_Capuchinbird_Clips/XC40355-0.wav\n",
            "Tensor shape: (56000,)\n",
            "Processing file: /content/Parsed_Capuchinbird_Clips/XC44070-1.wav\n",
            "Tensor shape: (56000,)\n",
            "Processing file: /content/Parsed_Capuchinbird_Clips/XC433953-3.wav\n",
            "Tensor shape: (48000,)\n",
            "Processing file: /content/Parsed_Capuchinbird_Clips/XC216012-15.wav\n",
            "Tensor shape: (48000,)\n",
            "Processing file: /content/Parsed_Capuchinbird_Clips/XC433953-9.wav\n",
            "Tensor shape: (39999,)\n",
            "Processing file: /content/Parsed_Capuchinbird_Clips/XC227471-3.wav\n",
            "Tensor shape: (56000,)\n",
            "Processing file: /content/Parsed_Capuchinbird_Clips/XC22397-3.wav\n",
            "Tensor shape: (72000,)\n",
            "Processing file: /content/Parsed_Capuchinbird_Clips/XC201990-5.wav\n",
            "Tensor shape: (48000,)\n",
            "Processing file: /content/Parsed_Capuchinbird_Clips/XC307385-0.wav\n",
            "Tensor shape: (48000,)\n",
            "Processing file: /content/Parsed_Capuchinbird_Clips/XC216012-17.wav\n",
            "Tensor shape: (56000,)\n",
            "Processing file: /content/Parsed_Capuchinbird_Clips/XC388470-2.wav\n",
            "Tensor shape: (48000,)\n",
            "Processing file: /content/Parsed_Capuchinbird_Clips/XC227469-2.wav\n",
            "Tensor shape: (48000,)\n",
            "Processing file: /content/Parsed_Capuchinbird_Clips/XC600460-0.wav\n",
            "Tensor shape: (56000,)\n",
            "Processing file: /content/Parsed_Capuchinbird_Clips/XC216010-1.wav\n",
            "Tensor shape: (56000,)\n",
            "Processing file: /content/Parsed_Capuchinbird_Clips/XC178168-3.wav\n",
            "Tensor shape: (56000,)\n",
            "Processing file: /content/Parsed_Capuchinbird_Clips/XC178168-5.wav\n",
            "Tensor shape: (64000,)\n",
            "Processing file: /content/Parsed_Capuchinbird_Clips/XC9221-0.wav\n",
            "Tensor shape: (64000,)\n",
            "Processing file: /content/Parsed_Capuchinbird_Clips/XC114132-0.wav\n",
            "Tensor shape: (64000,)\n",
            "Processing file: /content/Parsed_Capuchinbird_Clips/XC227468-3.wav\n",
            "Tensor shape: (56000,)\n",
            "Processing file: /content/Parsed_Capuchinbird_Clips/XC216012-19.wav\n",
            "Tensor shape: (40000,)\n",
            "Processing file: /content/Parsed_Capuchinbird_Clips/XC114132-1.wav\n",
            "Tensor shape: (64000,)\n",
            "Processing file: /content/Parsed_Capuchinbird_Clips/XC216012-13.wav\n",
            "Tensor shape: (40000,)\n",
            "Processing file: /content/Parsed_Capuchinbird_Clips/XC227468-5.wav\n",
            "Tensor shape: (56000,)\n",
            "Processing file: /content/Parsed_Capuchinbird_Clips/XC227471-5.wav\n",
            "Tensor shape: (48000,)\n",
            "Processing file: /content/Parsed_Capuchinbird_Clips/XC387509-2.wav\n",
            "Tensor shape: (56000,)\n",
            "Processing file: /content/Parsed_Capuchinbird_Clips/XC46077-0.wav\n",
            "Tensor shape: (48000,)\n",
            "Processing file: /content/Parsed_Capuchinbird_Clips/XC114131-4.wav\n",
            "Tensor shape: (56000,)\n",
            "Processing file: /content/Parsed_Capuchinbird_Clips/XC201990-0.wav\n",
            "Tensor shape: (64000,)\n",
            "Processing file: /content/Parsed_Capuchinbird_Clips/XC216012-0.wav\n",
            "Tensor shape: (64000,)\n",
            "Processing file: /content/Parsed_Capuchinbird_Clips/XC526106-4.wav\n",
            "Tensor shape: (48000,)\n",
            "Processing file: /content/Parsed_Capuchinbird_Clips/XC79965-2.wav\n",
            "Tensor shape: (72000,)\n",
            "Processing file: /content/Parsed_Capuchinbird_Clips/XC22397-0.wav\n",
            "Tensor shape: (64000,)\n",
            "Processing file: /content/Parsed_Capuchinbird_Clips/XC27882-6.wav\n",
            "Tensor shape: (48000,)\n",
            "Processing file: /content/Parsed_Capuchinbird_Clips/XC22397-2.wav\n",
            "Tensor shape: (40000,)\n",
            "Processing file: /content/Parsed_Capuchinbird_Clips/XC526106-5.wav\n",
            "Tensor shape: (56000,)\n",
            "Processing file: /content/Parsed_Capuchinbird_Clips/XC387509-1.wav\n",
            "Tensor shape: (56000,)\n",
            "Processing file: /content/Parsed_Capuchinbird_Clips/XC395129-6.wav\n",
            "Tensor shape: (48000,)\n",
            "Processing file: /content/Parsed_Capuchinbird_Clips/XC216012-12.wav\n",
            "Tensor shape: (48000,)\n",
            "Processing file: /content/Parsed_Capuchinbird_Clips/XC388470-0.wav\n",
            "Tensor shape: (40000,)\n",
            "Processing file: /content/Parsed_Capuchinbird_Clips/XC46241-0.wav\n",
            "Tensor shape: (56000,)\n",
            "Processing file: /content/Parsed_Capuchinbird_Clips/XC114132-3.wav\n",
            "Tensor shape: (56000,)\n",
            "Processing file: /content/Parsed_Capuchinbird_Clips/XC307385-4.wav\n",
            "Tensor shape: (64000,)\n",
            "Processing file: /content/Parsed_Capuchinbird_Clips/XC178167-3.wav\n",
            "Tensor shape: (56000,)\n",
            "Processing file: /content/Parsed_Capuchinbird_Clips/XC3776-3.wav\n",
            "Tensor shape: (48000,)\n",
            "Processing file: /content/Parsed_Capuchinbird_Clips/XC178167-0.wav\n",
            "Tensor shape: (56000,)\n",
            "Processing file: /content/Parsed_Capuchinbird_Clips/XC520626-1.wav\n",
            "Tensor shape: (48000,)\n",
            "Processing file: /content/Parsed_Capuchinbird_Clips/XC216012-1.wav\n",
            "Tensor shape: (48000,)\n",
            "Processing file: /content/Parsed_Capuchinbird_Clips/XC227468-1.wav\n",
            "Tensor shape: (64000,)\n",
            "Processing file: /content/Parsed_Capuchinbird_Clips/XC27882-3.wav\n",
            "Tensor shape: (48000,)\n",
            "Processing file: /content/Parsed_Capuchinbird_Clips/XC227468-4.wav\n",
            "Tensor shape: (56000,)\n",
            "Processing file: /content/Parsed_Capuchinbird_Clips/XC526106-3.wav\n",
            "Tensor shape: (48000,)\n",
            "Processing file: /content/Parsed_Capuchinbird_Clips/XC3776-6.wav\n",
            "Tensor shape: (64000,)\n",
            "Processing file: /content/Parsed_Capuchinbird_Clips/XC178168-6.wav\n",
            "Tensor shape: (48000,)\n",
            "Processing file: /content/Parsed_Capuchinbird_Clips/XC178168-2.wav\n",
            "Tensor shape: (56000,)\n",
            "Processing file: /content/Parsed_Capuchinbird_Clips/XC456236-0.wav\n",
            "Tensor shape: (56000,)\n",
            "Processing file: /content/Parsed_Capuchinbird_Clips/XC433953-6.wav\n",
            "Tensor shape: (48000,)\n",
            "Processing file: /content/Parsed_Capuchinbird_Clips/XC495697-0.wav\n",
            "Tensor shape: (48000,)\n",
            "Processing file: /content/Parsed_Capuchinbird_Clips/XC3776-2.wav\n",
            "Tensor shape: (56000,)\n",
            "Processing file: /content/Parsed_Capuchinbird_Clips/XC216010-5.wav\n",
            "Tensor shape: (48000,)\n",
            "Processing file: /content/Parsed_Capuchinbird_Clips/XC178168-7.wav\n",
            "Tensor shape: (56000,)\n",
            "Processing file: /content/Parsed_Capuchinbird_Clips/XC216010-7.wav\n",
            "Tensor shape: (64000,)\n",
            "Processing file: /content/Parsed_Capuchinbird_Clips/XC574020-0.wav\n",
            "Tensor shape: (56000,)\n"
          ]
        }
      ]
    },
    {
      "cell_type": "code",
      "source": [
        "lengths"
      ],
      "metadata": {
        "colab": {
          "base_uri": "https://localhost:8080/"
        },
        "id": "_t2DfrUOkSNy",
        "outputId": "df7af574-a9d4-4ecf-c5c4-830a2f60eb02"
      },
      "execution_count": 25,
      "outputs": [
        {
          "output_type": "execute_result",
          "data": {
            "text/plain": [
              "[40000,\n",
              " 48000,\n",
              " 48000,\n",
              " 56000,\n",
              " 48000,\n",
              " 48000,\n",
              " 48000,\n",
              " 56000,\n",
              " 32000,\n",
              " 48000,\n",
              " 56000,\n",
              " 56000,\n",
              " 48000,\n",
              " 56000,\n",
              " 56000,\n",
              " 56000,\n",
              " 56000,\n",
              " 32000,\n",
              " 56000,\n",
              " 48000,\n",
              " 64000,\n",
              " 56000,\n",
              " 48000,\n",
              " 64000,\n",
              " 56000,\n",
              " 72000,\n",
              " 56000,\n",
              " 40000,\n",
              " 56000,\n",
              " 55999,\n",
              " 48000,\n",
              " 56000,\n",
              " 64000,\n",
              " 56000,\n",
              " 56000,\n",
              " 48000,\n",
              " 32000,\n",
              " 64000,\n",
              " 56000,\n",
              " 56000,\n",
              " 64000,\n",
              " 64000,\n",
              " 40000,\n",
              " 56000,\n",
              " 48000,\n",
              " 64000,\n",
              " 64000,\n",
              " 64000,\n",
              " 55999,\n",
              " 56000,\n",
              " 40000,\n",
              " 56000,\n",
              " 56000,\n",
              " 48000,\n",
              " 64000,\n",
              " 40000,\n",
              " 64000,\n",
              " 40000,\n",
              " 48000,\n",
              " 40000,\n",
              " 56000,\n",
              " 64000,\n",
              " 56000,\n",
              " 48000,\n",
              " 48000,\n",
              " 48000,\n",
              " 48000,\n",
              " 48000,\n",
              " 64000,\n",
              " 56000,\n",
              " 56000,\n",
              " 56000,\n",
              " 72000,\n",
              " 56000,\n",
              " 56000,\n",
              " 56000,\n",
              " 64000,\n",
              " 48000,\n",
              " 64000,\n",
              " 64000,\n",
              " 64000,\n",
              " 32000,\n",
              " 56000,\n",
              " 56000,\n",
              " 64000,\n",
              " 48000,\n",
              " 56000,\n",
              " 40000,\n",
              " 48000,\n",
              " 56000,\n",
              " 56000,\n",
              " 56000,\n",
              " 56000,\n",
              " 56000,\n",
              " 64000,\n",
              " 48000,\n",
              " 48000,\n",
              " 56000,\n",
              " 56000,\n",
              " 56000,\n",
              " 56000,\n",
              " 48000,\n",
              " 64000,\n",
              " 48000,\n",
              " 56000,\n",
              " 56000,\n",
              " 56000,\n",
              " 64000,\n",
              " 48000,\n",
              " 56000,\n",
              " 56000,\n",
              " 48000,\n",
              " 56000,\n",
              " 56000,\n",
              " 56000,\n",
              " 64000,\n",
              " 40000,\n",
              " 48000,\n",
              " 64000,\n",
              " 64000,\n",
              " 40000,\n",
              " 40000,\n",
              " 64000,\n",
              " 56000,\n",
              " 64000,\n",
              " 72000,\n",
              " 56000,\n",
              " 40000,\n",
              " 48000,\n",
              " 56000,\n",
              " 48000,\n",
              " 48000,\n",
              " 56000,\n",
              " 56000,\n",
              " 64000,\n",
              " 48000,\n",
              " 56000,\n",
              " 64000,\n",
              " 48000,\n",
              " 48000,\n",
              " 56000,\n",
              " 56000,\n",
              " 48000,\n",
              " 56000,\n",
              " 64000,\n",
              " 64000,\n",
              " 56000,\n",
              " 40000,\n",
              " 55999,\n",
              " 64000,\n",
              " 48000,\n",
              " 56000,\n",
              " 80000,\n",
              " 64000,\n",
              " 56000,\n",
              " 56000,\n",
              " 56000,\n",
              " 48000,\n",
              " 48000,\n",
              " 39999,\n",
              " 56000,\n",
              " 72000,\n",
              " 48000,\n",
              " 48000,\n",
              " 56000,\n",
              " 48000,\n",
              " 48000,\n",
              " 56000,\n",
              " 56000,\n",
              " 56000,\n",
              " 64000,\n",
              " 64000,\n",
              " 64000,\n",
              " 56000,\n",
              " 40000,\n",
              " 64000,\n",
              " 40000,\n",
              " 56000,\n",
              " 48000,\n",
              " 56000,\n",
              " 48000,\n",
              " 56000,\n",
              " 64000,\n",
              " 64000,\n",
              " 48000,\n",
              " 72000,\n",
              " 64000,\n",
              " 48000,\n",
              " 40000,\n",
              " 56000,\n",
              " 56000,\n",
              " 48000,\n",
              " 48000,\n",
              " 40000,\n",
              " 56000,\n",
              " 56000,\n",
              " 64000,\n",
              " 56000,\n",
              " 48000,\n",
              " 56000,\n",
              " 48000,\n",
              " 48000,\n",
              " 64000,\n",
              " 48000,\n",
              " 56000,\n",
              " 48000,\n",
              " 64000,\n",
              " 48000,\n",
              " 56000,\n",
              " 56000,\n",
              " 48000,\n",
              " 48000,\n",
              " 56000,\n",
              " 48000,\n",
              " 56000,\n",
              " 64000,\n",
              " 56000]"
            ]
          },
          "metadata": {},
          "execution_count": 25
        }
      ]
    },
    {
      "cell_type": "markdown",
      "source": [
        "## *4.2 Calculate Mean, Min and Max*"
      ],
      "metadata": {
        "id": "SC_Pg2OzlI6y"
      }
    },
    {
      "cell_type": "code",
      "source": [
        "tf.math.reduce_mean(lengths)"
      ],
      "metadata": {
        "colab": {
          "base_uri": "https://localhost:8080/"
        },
        "id": "LmMmvpAWk79e",
        "outputId": "90e3b279-e685-4bb2-9b9e-7e5826e785a8"
      },
      "execution_count": 26,
      "outputs": [
        {
          "output_type": "execute_result",
          "data": {
            "text/plain": [
              "<tf.Tensor: shape=(), dtype=int32, numpy=54156>"
            ]
          },
          "metadata": {},
          "execution_count": 26
        }
      ]
    },
    {
      "cell_type": "code",
      "source": [
        "tf.math.reduce_min(lengths)"
      ],
      "metadata": {
        "colab": {
          "base_uri": "https://localhost:8080/"
        },
        "id": "EQ1JCh6qzEfw",
        "outputId": "3f540c76-d08c-4a2f-a349-c66c48a56889"
      },
      "execution_count": 27,
      "outputs": [
        {
          "output_type": "execute_result",
          "data": {
            "text/plain": [
              "<tf.Tensor: shape=(), dtype=int32, numpy=32000>"
            ]
          },
          "metadata": {},
          "execution_count": 27
        }
      ]
    },
    {
      "cell_type": "code",
      "source": [
        "tf.math.reduce_max(lengths)"
      ],
      "metadata": {
        "colab": {
          "base_uri": "https://localhost:8080/"
        },
        "id": "Vxvy7mD9zoLv",
        "outputId": "15e69fba-1f3d-4d1c-ab47-e6fa30595da8"
      },
      "execution_count": 28,
      "outputs": [
        {
          "output_type": "execute_result",
          "data": {
            "text/plain": [
              "<tf.Tensor: shape=(), dtype=int32, numpy=80000>"
            ]
          },
          "metadata": {},
          "execution_count": 28
        }
      ]
    },
    {
      "cell_type": "markdown",
      "source": [
        "# *5 Build preprocessing function to convert to spectrogram*"
      ],
      "metadata": {
        "id": "0-qo4Pvbz6KN"
      }
    },
    {
      "cell_type": "markdown",
      "source": [
        "## *5.1 Build preprocessing function*"
      ],
      "metadata": {
        "id": "8LxV6xVM0E-k"
      }
    },
    {
      "cell_type": "code",
      "source": [
        "def preprocess(file_path, label):\n",
        "  wav = load_wav_16k_momo(file_path)\n",
        "  wav = wav[:48000]\n",
        "  zero_padding = tf.zeros([48000] - tf.shape(wav), dtype=tf.float32)\n",
        "  wav = tf.concat([zero_padding, wav], 0)\n",
        "  spectrogram = tf.signal.stft(wav, frame_length=320, frame_step=32)\n",
        "  spectrogram = tf.abs(spectrogram)\n",
        "  spectrogram = tf.expand_dims(spectrogram, axis=2)\n",
        "  return spectrogram, label"
      ],
      "metadata": {
        "id": "kzo5BIFQzq5n"
      },
      "execution_count": 29,
      "outputs": []
    },
    {
      "cell_type": "code",
      "source": [],
      "metadata": {
        "id": "QhzUqajc1XVT"
      },
      "execution_count": null,
      "outputs": []
    }
  ]
}